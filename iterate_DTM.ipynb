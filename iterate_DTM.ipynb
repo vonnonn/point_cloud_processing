{
 "cells": [
  {
   "cell_type": "markdown",
   "metadata": {},
   "source": [
    "\n",
    " Joshua W. von Nonn \\\n",
    " Geographer \\\n",
    " U.S. Geological Survey \\\n",
    " Western Geographic Science Center \\\n",
    " P.O. Box 158 \\\n",
    " Moffett Field, CA 94035 \\\n",
    " Email: jvonnonn@usgs.gov "
   ]
  },
  {
   "cell_type": "markdown",
   "metadata": {},
   "source": [
    "# Point cloud processing with PDAL\n",
    "\n",
    "The following code in this notebook will classify ground points and generate a DTM.\\\n",
    "PDAL documentation: https://pdal.io/en/latest/\n",
    "\n",
    "<mark style=\"background-color: #FFFFCC\"> Prior to running this notebook, the point cloud should have the outliers removed and thinned using PDAL's Poisson. I recommend a radius of 0.25 to start, but this will depend on your objective, microtopography, and the intended DTM resolution. <mark>"
   ]
  },
  {
   "attachments": {
    "image.png": {
     "image/png": "[encoded data removed]"
    }
   },
   "cell_type": "markdown",
   "metadata": {},
   "source": [
    "![image.png](attachment:image.png)"
   ]
  },
  {
   "cell_type": "code",
   "execution_count": 1,
   "metadata": {},
   "outputs": [
    {
     "name": "stdout",
     "output_type": "stream",
     "text": [
      "sys version:3.8.17\n",
      "pdal version:3.2.3\n",
      "numpy version:1.24.4\n",
      "pandas version:2.0.3\n",
      "pyvista version:0.41.1\n",
      "rasterio version:1.3.7\n"
     ]
    }
   ],
   "source": [
    "import sys\n",
    "import pdal\n",
    "import numpy as np\n",
    "import pandas as pd\n",
    "import pyvista as pv\n",
    "import rasterio as rio\n",
    "\n",
    "print(f\"sys version:{sys.version[:6]}\")\n",
    "print(f\"pdal version:{pdal.__version__}\")\n",
    "print(f\"numpy version:{np.__version__}\")\n",
    "print(f\"pandas version:{pd.__version__}\")\n",
    "print(f\"pyvista version:{pv.__version__}\")\n",
    "print(f\"rasterio version:{rio.__version__}\")"
   ]
  },
  {
   "cell_type": "code",
   "execution_count": 2,
   "metadata": {},
   "outputs": [],
   "source": [
    "#normalizing band color values for pyvist\n",
    "def normalizing(dflist):\n",
    "    dflist_norm = (dflist - dflist.min()) / (dflist.max() - dflist.min())\n",
    "    return(dflist_norm)"
   ]
  },
  {
   "cell_type": "code",
   "execution_count": 3,
   "metadata": {},
   "outputs": [],
   "source": [
    "#enter absolute path of laz or las file, example: fp = '/home/user/Downloads/points.laz'\n",
    "fp = ''"
   ]
  },
  {
   "cell_type": "code",
   "execution_count": 4,
   "metadata": {},
   "outputs": [
    {
     "data": {
      "text/plain": [
       "'Pipeline selected 7888199 points'"
      ]
     },
     "execution_count": 4,
     "metadata": {},
     "output_type": "execute_result"
    }
   ],
   "source": [
    "#reading las file into pdal pipeline\n",
    "p = pdal.Reader.las(fp).pipeline()\n",
    "n_pts = p.execute()\n",
    "\n",
    "f'Pipeline selected {n_pts} points'"
   ]
  },
  {
   "cell_type": "code",
   "execution_count": null,
   "metadata": {},
   "outputs": [],
   "source": [
    "#uncomment to thin point cloud to 25cm radius\n",
    "#p = pdal.Filter.sample(radius=0.25).pipeline(p.arrays[0])\n",
    "#p.execute()"
   ]
  },
  {
   "cell_type": "markdown",
   "metadata": {},
   "source": [
    "Link to SMRF paper https://www.sciencedirect.com/science/article/abs/pii/S0924271613000026."
   ]
  },
  {
   "cell_type": "code",
   "execution_count": null,
   "metadata": {},
   "outputs": [],
   "source": [
    "#smrf parameters \n",
    "\n",
    "cell = 1\n",
    "window = 13\n",
    "scalar = 1.5\n",
    "slope = 0.35\n",
    "threshold = 0.5\n",
    "\n",
    "ground_test = pdal.Filter.smrf(cell=cell,window=window,scalar=scalar,slope=slope,threshold=threshold).pipeline(p.arrays[0])\n",
    "ground_test.execute()"
   ]
  },
  {
   "cell_type": "code",
   "execution_count": null,
   "metadata": {},
   "outputs": [],
   "source": [
    "#PMF ----- aggressive parameters for flat topography, i.e. meadow\n",
    "\n",
    "cell_size = 1\n",
    "max_w = 33\n",
    "slope = .05 #\n",
    "initial_dist = 0.05\n",
    "max_dist = 2\n",
    "\n",
    "ground_test = pdal.Filter.pmf(cell_size=cell_size,max_window_size=max_w,slope=slope,\n",
    "                              initial_distance=initial_dist,max_distance=max_dist).pipeline(p.arrays[0])\n",
    "ground_test.execute()"
   ]
  },
  {
   "cell_type": "code",
   "execution_count": null,
   "metadata": {},
   "outputs": [],
   "source": [
    "#cloth ---- default settings\n",
    "\n",
    "resolution = 1\n",
    "threshold = 0.5\n",
    "step = 0.65\n",
    "rigidness = 3\n",
    "\n",
    "ground_test = pdal.Filter.csf(resolution=resolution, threshold=threshold, step=step,\n",
    "                               rigidness=rigidness).pipeline(p.arrays[0])\n",
    "ground_test.execute()\n"
   ]
  },
  {
   "cell_type": "code",
   "execution_count": 13,
   "metadata": {},
   "outputs": [
    {
     "data": {
      "text/plain": [
       "'5402428 ground points found.'"
      ]
     },
     "execution_count": 13,
     "metadata": {},
     "output_type": "execute_result"
    }
   ],
   "source": [
    "arr = ground_test.arrays[0]\n",
    "cols = [col for col, _ in arr.dtype.descr]\n",
    "\n",
    "df = pd.DataFrame({col: arr[col] for col in cols})\n",
    "\n",
    "bands = (\"Red\",\"Green\",\"Blue\")\n",
    "for band in bands:\n",
    "    df[band] = normalizing(df[band])\n",
    "\n",
    "df.loc[df['Classification'] == 2, bands] = (0.98,0.78,0.44) #colorizing ground points\n",
    "\n",
    "pc_norm = np.dstack((df.X, df.Y, df.Z,))\n",
    "pc_colors = np.dstack((df.Red, df.Green, df.Blue))\n",
    "\n",
    "pc_norm = pc_norm.reshape(pc_norm.shape[1], pc_norm.shape[2])\n",
    "pc_colors = pc_colors.reshape(pc_colors.shape[1], pc_colors.shape[2])\n",
    "\n",
    "pcn = pv.PolyData(pc_norm)\n",
    "pcn['colors'] = pc_colors\n",
    "\n",
    "f'{len(df[df.Classification == 2])} ground points found.'"
   ]
  },
  {
   "cell_type": "code",
   "execution_count": 14,
   "metadata": {},
   "outputs": [],
   "source": [
    "pcn.plot(scalars='colors', point_size=2, rgb=True, notebook=False, full_screen=True)"
   ]
  },
  {
   "cell_type": "markdown",
   "metadata": {},
   "source": [
    "### Write out DTM\n"
   ]
  },
  {
   "cell_type": "markdown",
   "metadata": {},
   "source": [
    "<mark style=\"background-color: #FFFFCC\"> The DTM will likely have no-data holes. I recommend the GDAL fill no-data tool in QGIS to resolve these. <mark>"
   ]
  },
  {
   "cell_type": "code",
   "execution_count": null,
   "metadata": {},
   "outputs": [],
   "source": [
    "#selecting only ground points to generate DTM\n",
    "fileout = fp.replace('.', '_DTM.tif')\n",
    "\n",
    "DTM = (pdal.Filter.range(limits=\"Classification[2:2]\").pipeline(ground_test.arrays[0]) |\n",
    "      pdal.Writer.gdal(resolution = 0.6, radius = 0.5, output_type='min', filename=fileout).pipeline())\n",
    "DTM.execute()"
   ]
  },
  {
   "cell_type": "code",
   "execution_count": null,
   "metadata": {},
   "outputs": [],
   "source": []
  }
 ],
 "metadata": {
  "kernelspec": {
   "display_name": "pdal38",
   "language": "python",
   "name": "python3"
  },
  "language_info": {
   "codemirror_mode": {
    "name": "ipython",
    "version": 3
   },
   "file_extension": ".py",
   "mimetype": "text/x-python",
   "name": "python",
   "nbconvert_exporter": "python",
   "pygments_lexer": "ipython3",
   "version": "3.8.17"
  },
  "orig_nbformat": 4
 },
 "nbformat": 4,
 "nbformat_minor": 2
}
